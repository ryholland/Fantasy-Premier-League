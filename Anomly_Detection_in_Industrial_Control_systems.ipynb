{
  "nbformat": 4,
  "nbformat_minor": 0,
  "metadata": {
    "colab": {
      "name": "Anomly_Detection_in_Industrial_Control_systems.ipynb",
      "provenance": [],
      "collapsed_sections": [],
      "machine_shape": "hm",
      "authorship_tag": "ABX9TyOynSwoIAWIIKTLjOSq4wQU",
      "include_colab_link": true
    },
    "kernelspec": {
      "name": "python3",
      "display_name": "Python 3"
    },
    "accelerator": "GPU"
  },
  "cells": [
    {
      "cell_type": "markdown",
      "metadata": {
        "id": "view-in-github",
        "colab_type": "text"
      },
      "source": [
        "<a href=\"https://colab.research.google.com/github/ryholland/Fantasy-Premier-League/blob/master/Anomly_Detection_in_Industrial_Control_systems.ipynb\" target=\"_parent\"><img src=\"https://colab.research.google.com/assets/colab-badge.svg\" alt=\"Open In Colab\"/></a>"
      ]
    },
    {
      "cell_type": "markdown",
      "metadata": {
        "id": "fJp-ftAsicpH"
      },
      "source": [
        "# Environment setup"
      ]
    },
    {
      "cell_type": "code",
      "metadata": {
        "colab": {
          "base_uri": "https://localhost:8080/"
        },
        "id": "zTspUWJj0bim",
        "outputId": "98977983-b9f5-4805-8ce4-19f8ed05d9d3"
      },
      "source": [
        "%tensorflow_version 2.x\n",
        "import pandas as pd\n",
        "import numpy as np\n",
        "from math import sqrt\n",
        "from numpy import concatenate\n",
        "from matplotlib import pyplot\n",
        "from pandas import read_csv\n",
        "from pandas import DataFrame\n",
        "from pandas import concat\n",
        "from sklearn.preprocessing import MinMaxScaler\n",
        "from sklearn.preprocessing import LabelEncoder\n",
        "from sklearn.metrics import mean_squared_error\n",
        "from keras.models import Sequential\n",
        "from keras.layers import Dense\n",
        "from keras.layers import LSTM, GRU\n",
        "import tensorflow as tf\n",
        "from datetime import datetime\n",
        "from google.colab import drive\n",
        "\n",
        "drive.mount('/content/drive')\n",
        "\n",
        "##################\n",
        "# Verifications:\n",
        "#################\n",
        "print('GPU is used.' if len(tf.config.list_physical_devices('GPU')) > 0 else 'GPU is NOT used.')\n",
        "print(\"Tensorflow version: \" + tf.__version__)"
      ],
      "execution_count": null,
      "outputs": [
        {
          "output_type": "stream",
          "text": [
            "Mounted at /content/drive\n",
            "GPU is used.\n",
            "Tensorflow version: 2.4.1\n"
          ],
          "name": "stdout"
        }
      ]
    },
    {
      "cell_type": "code",
      "metadata": {
        "id": "L6UGy-EH2SXv"
      },
      "source": [
        "dataset = pd.read_excel(\"/content/drive/My Drive/Masters of Data Science/SIT723/SWaT_dataset_Jul 19 v2.xlsx\")\n",
        "dataset = dataset.drop(1)\n",
        "new_header = dataset.iloc[0] \n",
        "dataset = dataset[1:] \n",
        "dataset.columns = new_header \n",
        "dataset= pd.DataFrame(dataset)\n",
        "dataset['GMT +0'] = dataset['GMT +0'].str.replace('T',' ')\n",
        "dataset['GMT +0'] = dataset['GMT +0'].str.replace('Z',' ')\n",
        "dataset.head()"
      ],
      "execution_count": null,
      "outputs": []
    },
    {
      "cell_type": "code",
      "metadata": {
        "id": "MCeb9_K-xR4m"
      },
      "source": [
        "dataset['GMT +0'] =  pd.to_datetime(dataset['GMT +0'], format='%d%b%Y:%H:%M:%S.%f')\n",
        "\n",
        "dataset.head()"
      ],
      "execution_count": null,
      "outputs": []
    },
    {
      "cell_type": "code",
      "metadata": {
        "id": "_1PsXI3wsnh9"
      },
      "source": [
        "\n",
        "dataset.fillna(0, inplace=True)\n",
        "values = dataset.values\n",
        "# ensure all data is float\n",
        "values = values.astype('float32')"
      ],
      "execution_count": null,
      "outputs": []
    },
    {
      "cell_type": "markdown",
      "metadata": {
        "id": "gI-eOi19iXIG"
      },
      "source": [
        "# Preprocessing\n"
      ]
    },
    {
      "cell_type": "code",
      "metadata": {
        "id": "au1IFc60sIEk"
      },
      "source": [
        "# normalizing input features\n",
        "scaler = MinMaxScaler(feature_range=(0, 1))\n",
        "scaled = scaler.fit_transform(values)\n",
        "scaled =pd.DataFrame(scaled)"
      ],
      "execution_count": null,
      "outputs": []
    },
    {
      "cell_type": "code",
      "metadata": {
        "id": "7491LFtniglR"
      },
      "source": [
        "def create_ts_data(dataset, lookback=1, predicted_col=1):\n",
        "    temp=dataset.copy()\n",
        "    temp[\"id\"]= range(1, len(temp)+1)\n",
        "    temp = temp.iloc[:-lookback, :]\n",
        "    temp.set_index('id', inplace =True)\n",
        "    predicted_value=dataset.copy()\n",
        "    predicted_value = predicted_value.iloc[lookback:,predicted_col]\n",
        "    predicted_value.columns=[\"Predcited\"]\n",
        "    predicted_value= pd.DataFrame(predicted_value)\n",
        "    \n",
        "    predicted_value[\"id\"]= range(1, len(predicted_value)+1)\n",
        "    predicted_value.set_index('id', inplace =True)\n",
        "    final_df= pd.concat([temp, predicted_value], axis=1)\n",
        "    #final_df.columns = ['var1(t-1)', 'var2(t-1)', 'var3(t-1)', 'var4(t-1)', 'var5(t-1)', 'var6(t-1)', 'var7(t-1)', 'var8(t-1)','var1(t)']\n",
        "    #final_df.set_index('Date', inplace=True)\n",
        "    return final_df\n"
      ],
      "execution_count": null,
      "outputs": []
    },
    {
      "cell_type": "code",
      "metadata": {
        "id": "6uRGUoSFsNGe"
      },
      "source": [
        "reframed_df= create_ts_data(scaled, 1,0)\n",
        "reframed_df.fillna(0, inplace=True)\n",
        "\n",
        "reframed_df.columns = ['var1(t-1)', 'var2(t-1)', 'var3(t-1)', 'var4(t-1)', 'var5(t-1)', 'var6(t-1)', 'var7(t-1)','var1(t)']\n",
        "print(reframed_df.head(4))"
      ],
      "execution_count": null,
      "outputs": []
    },
    {
      "cell_type": "code",
      "metadata": {
        "id": "Y5r5OOUDouOz"
      },
      "source": [
        "# split into train and test sets\n",
        "values = reframed_df.values\n",
        "training_sample =int( len(dataset) *0.7)\n",
        "train = values[:training_sample, :]\n",
        "test = values[training_sample:, :]\n",
        "# split into input and outputs\n",
        "train_X, train_y = train[:, :-1], train[:, -1]\n",
        "test_X, test_y = test[:, :-1], test[:, -1]"
      ],
      "execution_count": null,
      "outputs": []
    },
    {
      "cell_type": "code",
      "metadata": {
        "id": "4dxpGT7jorwX"
      },
      "source": [
        "# reshape input to be 3D [samples, time steps, features]\n",
        "train_X = train_X.reshape((train_X.shape[0], 1, train_X.shape[1]))\n",
        "test_X = test_X.reshape((test_X.shape[0], 1, test_X.shape[1]))\n",
        "print(train_X.shape, train_y.shape, test_X.shape, test_y.shape)"
      ],
      "execution_count": null,
      "outputs": []
    },
    {
      "cell_type": "markdown",
      "metadata": {
        "id": "V0onyW2Oig4u"
      },
      "source": [
        "# Designing the model"
      ]
    },
    {
      "cell_type": "code",
      "metadata": {
        "id": "-vKV4OkCikvi"
      },
      "source": [
        "#LSTM\n",
        "from keras.layers import LSTM\n",
        "\n",
        "model = Sequential()\n",
        "model.add(Embedding(max_features, 32))\n",
        "model.add(LSTM(32))\n",
        "model.add(Dense(1, activation='sigmoid'))\n",
        "\n",
        "model.compile(optimizer='rmsprop',\n",
        "              loss='binary_crossentropy',\n",
        "              metrics=['acc'])\n",
        "history = model.fit(input_train, y_train,\n",
        "                    epochs=10,\n",
        "                    batch_size=128,\n",
        "                    validation_split=0.2)\n",
        "\n",
        "model_gru.summary()"
      ],
      "execution_count": null,
      "outputs": []
    },
    {
      "cell_type": "code",
      "metadata": {
        "id": "TX-4Pu-2nvkr"
      },
      "source": [
        "#GRU\n",
        "model_gru = Sequential()\n",
        "model_gru.add(GRU(75, return_sequences=True,input_shape=(train_X.shape[1], train_X.shape[2])))\n",
        "model_gru.add(GRU(units=30, return_sequences=True))\n",
        "model_gru.add(GRU(units=30))\n",
        "model_gru.add(Dense(units=1))\n",
        "\n",
        "model_gru.compile(loss='mae', optimizer='adam')"
      ],
      "execution_count": null,
      "outputs": []
    },
    {
      "cell_type": "markdown",
      "metadata": {
        "id": "9GAdPFlTilHA"
      },
      "source": [
        "# Training"
      ]
    },
    {
      "cell_type": "code",
      "metadata": {
        "id": "6augGk_4ipLB"
      },
      "source": [
        "history_lstm = model_lstm.fit(train_X, train_y, epochs=10, batch_size=64, validation_data=(test_X, test_y),  shuffle=False)"
      ],
      "execution_count": null,
      "outputs": []
    },
    {
      "cell_type": "markdown",
      "metadata": {
        "id": "L25jKoTeipmI"
      },
      "source": [
        "# Monitoring and analysis of the model"
      ]
    },
    {
      "cell_type": "code",
      "metadata": {
        "id": "Cqg73VwyiuPS"
      },
      "source": [
        "#pyplot.plot(history_lstm.history['loss'], label='LSTM train', color='red')\n",
        "#pyplot.plot(history_lstm.history['val_loss'], label='LSTM test', color= 'green')\n",
        "pyplot.plot(gru_history.history['loss'], label='GRU train', color='brown')\n",
        "pyplot.plot(gru_history.history['val_loss'], label='GRU test', color='blue')\n",
        "pyplot.legend()\n",
        "pyplot.show()"
      ],
      "execution_count": null,
      "outputs": []
    },
    {
      "cell_type": "markdown",
      "metadata": {
        "id": "WxW0fqUoiuhw"
      },
      "source": [
        ""
      ]
    }
  ]
}